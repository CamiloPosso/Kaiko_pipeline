{
 "cells": [
  {
   "cell_type": "code",
   "execution_count": 1,
   "metadata": {},
   "outputs": [],
   "source": [
    "import os\n",
    "import re\n",
    "import pandas as pd\n",
    "\n",
    "from math import floor"
   ]
  },
  {
   "cell_type": "code",
   "execution_count": 65,
   "metadata": {},
   "outputs": [],
   "source": [
    "directory = 'pipeline_intermediary/denovo_output/'\n",
    "files = [f for f in os.listdir(directory) if bool(re.search(r'_out.txt', f))]\n",
    "selection = 0.25\n",
    "samples = []\n",
    "\n",
    "def summary_times(group):\n",
    "    scans = group['scan']\n",
    "    return len(scans)\n",
    "\n",
    "def summary_scans(group):\n",
    "    scans = group['scan']\n",
    "    return \"_\".join(scans)\n",
    "\n",
    "def summary_rank(group):\n",
    "    ranks = group['rank']\n",
    "    return min(ranks)"
   ]
  },
  {
   "cell_type": "code",
   "execution_count": 66,
   "metadata": {},
   "outputs": [],
   "source": [
    "for file in files:\n",
    "    xx = pd.read_csv(directory + file, sep = \"\\t\", header = 0)\n",
    "\n",
    "    xx['output_seq'] = [re.sub(\",\", \"\", str(peptide)) for peptide in xx['output_seq']]\n",
    "    xx['output_seq'] = [re.sub(\"mod\", \"\", str(peptide)) for peptide in xx['output_seq']]\n",
    "    xx = xx.loc[xx['output_score'] != float(\"Inf\")]\n",
    "\n",
    "    xx = xx.sort_values('output_score', ascending = False)\n",
    "    xx = xx.head(floor(selection * floor(len(xx.index))))\n",
    "    #xx = xx[['scan', 'output_seq']]\n",
    "\n",
    "    xx['pep_length'] = [len(peptide) for peptide in xx['output_seq']]\n",
    "    xx = xx.loc[(xx['pep_length'] >= 10) & (xx['pep_length'] <= 17)]\n",
    "    xx['rank'] = list(range(1, len(xx.index) + 1))\n",
    "\n",
    "    grouped = xx.groupby('output_seq')\n",
    "\n",
    "    summary = grouped.apply(summary_times).to_frame()\n",
    "    summary['output_seq'] = summary.index\n",
    "    summary.columns = ['times', 'output_seq']\n",
    "    summary = summary[['output_seq', 'times']]\n",
    "    summary['rank'] = grouped.apply(summary_rank)\n",
    "    summary['scans'] = grouped.apply(summary_scans)\n",
    "\n",
    "    samples += [summary]\n"
   ]
  },
  {
   "cell_type": "code",
   "execution_count": 72,
   "metadata": {},
   "outputs": [],
   "source": [
    "for summary in samples:\n",
    "    nms = [\">S\" + summary['scans'][i] + \"_\" + str(summary['times'][i]) for i in range(len(summary))]\n",
    "    to_write = [None]*2*len(nms)\n",
    "    to_write[::2] = nms\n",
    "    to_write[1::2] = summary['output_seq']\n",
    "\n",
    "    with open('testing_combined.fasta', 'a') as fasta_file:\n",
    "        for line in to_write:\n",
    "            fasta_file.write(f\"{line}\\n\")\n"
   ]
  },
  {
   "cell_type": "code",
   "execution_count": 3,
   "metadata": {},
   "outputs": [
    {
     "data": {
      "text/plain": [
       "['config.ini',\n",
       " 'diamond-2.0.15',\n",
       " 'example.ini',\n",
       " 'Kaiko_2.py',\n",
       " 'Kaiko_3.py',\n",
       " 'Kaiko_4.py',\n",
       " 'kaiko_combined_denovo_outputs.ipynb',\n",
       " 'kaiko_defaults.ini',\n",
       " 'Kaiko_denovo',\n",
       " 'Kaiko_pipeline_main.py',\n",
       " 'MinT_samplesgfda_01.dmd',\n",
       " 'ncbi_taxa_2022-10-20',\n",
       " 'Parsing.py',\n",
       " 'pipeline_input',\n",
       " 'pipeline_intermediary',\n",
       " 'pipeline_output',\n",
       " 'testing.csv',\n",
       " 'testing_combined.fasta',\n",
       " 'uniref100.fasta.gz',\n",
       " '__pycache__']"
      ]
     },
     "execution_count": 3,
     "metadata": {},
     "output_type": "execute_result"
    }
   ],
   "source": [
    "os.listdir('.')"
   ]
  }
 ],
 "metadata": {
  "kernelspec": {
   "display_name": "Python 3.6.13 ('Kaiko_1')",
   "language": "python",
   "name": "python3"
  },
  "language_info": {
   "codemirror_mode": {
    "name": "ipython",
    "version": 3
   },
   "file_extension": ".py",
   "mimetype": "text/x-python",
   "name": "python",
   "nbconvert_exporter": "python",
   "pygments_lexer": "ipython3",
   "version": "3.6.13"
  },
  "orig_nbformat": 4,
  "vscode": {
   "interpreter": {
    "hash": "fdbc5188c347b5e8fe3d63cbd9dfaae97c195aa0649400ec31c79f790d9c63ef"
   }
  }
 },
 "nbformat": 4,
 "nbformat_minor": 2
}
